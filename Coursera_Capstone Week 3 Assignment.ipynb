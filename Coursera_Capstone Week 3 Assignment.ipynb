{
    "cells": [
        {
            "cell_type": "markdown",
            "metadata": {
                "collapsed": true
            },
            "source": "\n # 1. Data scraping for Toronto neighborhoods"
        },
        {
            "cell_type": "code",
            "execution_count": 1,
            "metadata": {},
            "outputs": [],
            "source": "# importing the libraries for data scraping\nimport pandas as pd\nimport numpy as np"
        },
        {
            "cell_type": "markdown",
            "metadata": {},
            "source": "- We're going to use the data from an HTML link of a Wikipedia page. It has information about all the neighborhoods of the city of Toronto, Canada. \n- The link is : https://en.wikipedia.org/wiki/List_of_postal_codes_of_Canada:_M\n- We will extract the data from the url with pandas."
        },
        {
            "cell_type": "code",
            "execution_count": 2,
            "metadata": {},
            "outputs": [
                {
                    "data": {
                        "text/html": "<div>\n<style scoped>\n    .dataframe tbody tr th:only-of-type {\n        vertical-align: middle;\n    }\n\n    .dataframe tbody tr th {\n        vertical-align: top;\n    }\n\n    .dataframe thead th {\n        text-align: right;\n    }\n</style>\n<table border=\"1\" class=\"dataframe\">\n  <thead>\n    <tr style=\"text-align: right;\">\n      <th></th>\n      <th>Postal Code</th>\n      <th>Borough</th>\n      <th>Neighborhood</th>\n    </tr>\n  </thead>\n  <tbody>\n    <tr>\n      <th>0</th>\n      <td>M1A</td>\n      <td>Not assigned</td>\n      <td>Not assigned</td>\n    </tr>\n    <tr>\n      <th>1</th>\n      <td>M2A</td>\n      <td>Not assigned</td>\n      <td>Not assigned</td>\n    </tr>\n    <tr>\n      <th>2</th>\n      <td>M3A</td>\n      <td>North York</td>\n      <td>Parkwoods</td>\n    </tr>\n    <tr>\n      <th>3</th>\n      <td>M4A</td>\n      <td>North York</td>\n      <td>Victoria Village</td>\n    </tr>\n    <tr>\n      <th>4</th>\n      <td>M5A</td>\n      <td>Downtown Toronto</td>\n      <td>Regent Park, Harbourfront</td>\n    </tr>\n  </tbody>\n</table>\n</div>",
                        "text/plain": "  Postal Code           Borough               Neighborhood\n0         M1A      Not assigned               Not assigned\n1         M2A      Not assigned               Not assigned\n2         M3A        North York                  Parkwoods\n3         M4A        North York           Victoria Village\n4         M5A  Downtown Toronto  Regent Park, Harbourfront"
                    },
                    "execution_count": 2,
                    "metadata": {},
                    "output_type": "execute_result"
                }
            ],
            "source": "url = 'https://en.wikipedia.org/wiki/List_of_postal_codes_of_Canada:_M'\n\npd.set_option('display.max_columns', None)\npd.set_option('display.max_rows', None)\n\ndata = pd.read_html(url) # extracting the data from the html link\n# We look for the table we need from the data previously extracted\ndf = data[0] \n\ndf.head()"
        },
        {
            "cell_type": "markdown",
            "metadata": {},
            "source": "- We then proceed to clean the data by filtering through the rows where the Borough is labeled 'Not assigned'."
        },
        {
            "cell_type": "code",
            "execution_count": 3,
            "metadata": {},
            "outputs": [
                {
                    "data": {
                        "text/plain": "(180, 3)"
                    },
                    "execution_count": 3,
                    "metadata": {},
                    "output_type": "execute_result"
                }
            ],
            "source": "df.shape"
        },
        {
            "cell_type": "code",
            "execution_count": 4,
            "metadata": {},
            "outputs": [
                {
                    "data": {
                        "text/html": "<div>\n<style scoped>\n    .dataframe tbody tr th:only-of-type {\n        vertical-align: middle;\n    }\n\n    .dataframe tbody tr th {\n        vertical-align: top;\n    }\n\n    .dataframe thead th {\n        text-align: right;\n    }\n</style>\n<table border=\"1\" class=\"dataframe\">\n  <thead>\n    <tr style=\"text-align: right;\">\n      <th></th>\n      <th>Postal Code</th>\n      <th>Borough</th>\n      <th>Neighborhood</th>\n    </tr>\n  </thead>\n  <tbody>\n    <tr>\n      <th>0</th>\n      <td>M3A</td>\n      <td>North York</td>\n      <td>Parkwoods</td>\n    </tr>\n    <tr>\n      <th>1</th>\n      <td>M4A</td>\n      <td>North York</td>\n      <td>Victoria Village</td>\n    </tr>\n    <tr>\n      <th>2</th>\n      <td>M5A</td>\n      <td>Downtown Toronto</td>\n      <td>Regent Park, Harbourfront</td>\n    </tr>\n    <tr>\n      <th>3</th>\n      <td>M6A</td>\n      <td>North York</td>\n      <td>Lawrence Manor, Lawrence Heights</td>\n    </tr>\n    <tr>\n      <th>4</th>\n      <td>M7A</td>\n      <td>Downtown Toronto</td>\n      <td>Queen's Park, Ontario Provincial Government</td>\n    </tr>\n    <tr>\n      <th>5</th>\n      <td>M9A</td>\n      <td>Etobicoke</td>\n      <td>Islington Avenue, Humber Valley Village</td>\n    </tr>\n    <tr>\n      <th>6</th>\n      <td>M1B</td>\n      <td>Scarborough</td>\n      <td>Malvern, Rouge</td>\n    </tr>\n    <tr>\n      <th>7</th>\n      <td>M3B</td>\n      <td>North York</td>\n      <td>Don Mills</td>\n    </tr>\n    <tr>\n      <th>8</th>\n      <td>M4B</td>\n      <td>East York</td>\n      <td>Parkview Hill, Woodbine Gardens</td>\n    </tr>\n    <tr>\n      <th>9</th>\n      <td>M5B</td>\n      <td>Downtown Toronto</td>\n      <td>Garden District, Ryerson</td>\n    </tr>\n  </tbody>\n</table>\n</div>",
                        "text/plain": "  Postal Code           Borough                                 Neighborhood\n0         M3A        North York                                    Parkwoods\n1         M4A        North York                             Victoria Village\n2         M5A  Downtown Toronto                    Regent Park, Harbourfront\n3         M6A        North York             Lawrence Manor, Lawrence Heights\n4         M7A  Downtown Toronto  Queen's Park, Ontario Provincial Government\n5         M9A         Etobicoke      Islington Avenue, Humber Valley Village\n6         M1B       Scarborough                               Malvern, Rouge\n7         M3B        North York                                    Don Mills\n8         M4B         East York              Parkview Hill, Woodbine Gardens\n9         M5B  Downtown Toronto                     Garden District, Ryerson"
                    },
                    "execution_count": 4,
                    "metadata": {},
                    "output_type": "execute_result"
                }
            ],
            "source": "df = df[df['Borough'] != 'Not assigned'] \ndf = df.reset_index(drop = True)\ndf.head(10)"
        },
        {
            "cell_type": "code",
            "execution_count": 5,
            "metadata": {},
            "outputs": [
                {
                    "data": {
                        "text/plain": "Downsview                                                                                                                                 4\nDon Mills                                                                                                                                 2\nScarborough Village                                                                                                                       1\nDavisville North                                                                                                                          1\nVictoria Village                                                                                                                          1\nChristie                                                                                                                                  1\nWoburn                                                                                                                                    1\nStn A PO Boxes                                                                                                                            1\nKensington Market, Chinatown, Grange Park                                                                                                 1\nWillowdale, Willowdale West                                                                                                               1\nWexford, Maryvale                                                                                                                         1\nCentral Bay Street                                                                                                                        1\nRunnymede, Swansea                                                                                                                        1\nSteeles West, L'Amoreaux West                                                                                                             1\nRunnymede, The Junction North                                                                                                             1\nDorset Park, Wexford Heights, Scarborough Town Centre                                                                                     1\nNew Toronto, Mimico South, Humber Bay Shores                                                                                              1\nThe Danforth West, Riverdale                                                                                                              1\nDel Ray, Mount Dennis, Keelsdale and Silverthorn                                                                                          1\nCN Tower, King and Spadina, Railway Lands, Harbourfront West, Bathurst Quay, South Niagara, Island airport                                1\nRegent Park, Harbourfront                                                                                                                 1\nLawrence Manor, Lawrence Heights                                                                                                          1\nLeaside                                                                                                                                   1\nHarbourfront East, Union Station, Toronto Islands                                                                                         1\nClarks Corners, Tam O'Shanter, Sullivan                                                                                                   1\nRosedale                                                                                                                                  1\nBedford Park, Lawrence Manor East                                                                                                         1\nGolden Mile, Clairlea, Oakridge                                                                                                           1\nThe Annex, North Midtown, Yorkville                                                                                                       1\nSummerhill West, Rathnelly, South Hill, Forest Hill SE, Deer Park                                                                         1\nRoselawn                                                                                                                                  1\nSt. James Town, Cabbagetown                                                                                                               1\nBusiness reply mail Processing Centre, South Central Letter Processing Plant Toronto                                                      1\nGarden District, Ryerson                                                                                                                  1\nMilliken, Agincourt North, Steeles East, L'Amoreaux East                                                                                  1\nThe Beaches                                                                                                                               1\nWillowdale, Willowdale East                                                                                                               1\nParkwoods                                                                                                                                 1\nGlencairn                                                                                                                                 1\nQueen's Park, Ontario Provincial Government                                                                                               1\nHigh Park, The Junction South                                                                                                             1\nBathurst Manor, Wilson Heights, Downsview North                                                                                           1\nEast Toronto, Broadview North (Old East York)                                                                                             1\nRouge Hill, Port Union, Highland Creek                                                                                                    1\nAgincourt                                                                                                                                 1\nNorth Toronto West, Lawrence Park                                                                                                         1\nCliffside, Cliffcrest, Scarborough Village West                                                                                           1\nParkview Hill, Woodbine Gardens                                                                                                           1\nUpper Rouge                                                                                                                               1\nEringate, Bloordale Gardens, Old Burnhamthorpe, Markland Wood                                                                             1\nSt. James Town                                                                                                                            1\nChurch and Wellesley                                                                                                                      1\nWeston                                                                                                                                    1\nFirst Canadian Place, Underground city                                                                                                    1\nKennedy Park, Ionview, East Birchmount Park                                                                                               1\nWillowdale, Newtonbrook                                                                                                                   1\nThe Kingsway, Montgomery Road, Old Mill North                                                                                             1\nNorthwood Park, York University                                                                                                           1\nNorth Park, Maple Leaf Park, Upwood Park                                                                                                  1\nCanada Post Gateway Processing Centre                                                                                                     1\nKingsview Village, St. Phillips, Martin Grove Gardens, Richview Gardens                                                                   1\nBirch Cliff, Cliffside West                                                                                                               1\nCedarbrae                                                                                                                                 1\nLittle Portugal, Trinity                                                                                                                  1\nAlderwood, Long Branch                                                                                                                    1\nFairview, Henry Farm, Oriole                                                                                                              1\nMimico NW, The Queensway West, South of Bloor, Kingsway Park South West, Royal York South West                                            1\nHumberlea, Emery                                                                                                                          1\nIslington Avenue, Humber Valley Village                                                                                                   1\nMalvern, Rouge                                                                                                                            1\nSouth Steeles, Silverstone, Humbergate, Jamestown, Mount Olive, Beaumond Heights, Thistletown, Albion Gardens                             1\nHumewood-Cedarvale                                                                                                                        1\nToronto Dominion Centre, Design Exchange                                                                                                  1\nStudio District                                                                                                                           1\nDavisville                                                                                                                                1\nRichmond, Adelaide, King                                                                                                                  1\nYork Mills West                                                                                                                           1\nWestmount                                                                                                                                 1\nHumber Summit                                                                                                                             1\nGuildwood, Morningside, West Hill                                                                                                         1\nCommerce Court, Victoria Hotel                                                                                                            1\nWest Deane Park, Princess Gardens, Martin Grove, Islington, Cloverdale                                                                    1\nDufferin, Dovercourt Village                                                                                                              1\nUniversity of Toronto, Harbord                                                                                                            1\nBerczy Park                                                                                                                               1\nThorncliffe Park                                                                                                                          1\nMoore Park, Summerhill East                                                                                                               1\nNorthwest, West Humber - Clairville                                                                                                       1\nOld Mill South, King's Mill Park, Sunnylea, Humber Bay, Mimico NE, The Queensway East, Royal York South East, Kingsway Park South East    1\nYork Mills, Silver Hills                                                                                                                  1\nIndia Bazaar, The Beaches West                                                                                                            1\nWoodbine Heights                                                                                                                          1\nHillcrest Village                                                                                                                         1\nCaledonia-Fairbanks                                                                                                                       1\nLawrence Park                                                                                                                             1\nParkdale, Roncesvalles                                                                                                                    1\nForest Hill North & West, Forest Hill Road Park                                                                                           1\nBrockton, Parkdale Village, Exhibition Place                                                                                              1\nBayview Village                                                                                                                           1\nName: Neighborhood, dtype: int64"
                    },
                    "execution_count": 5,
                    "metadata": {},
                    "output_type": "execute_result"
                }
            ],
            "source": "df['Neighborhood'].value_counts() #checking for Neighborhoods labeled 'Not assigned' in the dataframe"
        },
        {
            "cell_type": "code",
            "execution_count": 6,
            "metadata": {},
            "outputs": [
                {
                    "data": {
                        "text/plain": "(103, 3)"
                    },
                    "execution_count": 6,
                    "metadata": {},
                    "output_type": "execute_result"
                }
            ],
            "source": "df.shape"
        },
        {
            "cell_type": "markdown",
            "metadata": {},
            "source": "# 2. Merging the geospacial coordinates with the dataframe"
        },
        {
            "cell_type": "markdown",
            "metadata": {},
            "source": "For each postal code, we're going to associate coordinates (lat, long) using the geospatial coordiantes csv file."
        },
        {
            "cell_type": "code",
            "execution_count": 7,
            "metadata": {},
            "outputs": [
                {
                    "data": {
                        "text/html": "<div>\n<style scoped>\n    .dataframe tbody tr th:only-of-type {\n        vertical-align: middle;\n    }\n\n    .dataframe tbody tr th {\n        vertical-align: top;\n    }\n\n    .dataframe thead th {\n        text-align: right;\n    }\n</style>\n<table border=\"1\" class=\"dataframe\">\n  <thead>\n    <tr style=\"text-align: right;\">\n      <th></th>\n      <th>Postal Code</th>\n      <th>Latitude</th>\n      <th>Longitude</th>\n    </tr>\n  </thead>\n  <tbody>\n    <tr>\n      <th>0</th>\n      <td>M1B</td>\n      <td>43.806686</td>\n      <td>-79.194353</td>\n    </tr>\n    <tr>\n      <th>1</th>\n      <td>M1C</td>\n      <td>43.784535</td>\n      <td>-79.160497</td>\n    </tr>\n    <tr>\n      <th>2</th>\n      <td>M1E</td>\n      <td>43.763573</td>\n      <td>-79.188711</td>\n    </tr>\n    <tr>\n      <th>3</th>\n      <td>M1G</td>\n      <td>43.770992</td>\n      <td>-79.216917</td>\n    </tr>\n    <tr>\n      <th>4</th>\n      <td>M1H</td>\n      <td>43.773136</td>\n      <td>-79.239476</td>\n    </tr>\n  </tbody>\n</table>\n</div>",
                        "text/plain": "  Postal Code   Latitude  Longitude\n0         M1B  43.806686 -79.194353\n1         M1C  43.784535 -79.160497\n2         M1E  43.763573 -79.188711\n3         M1G  43.770992 -79.216917\n4         M1H  43.773136 -79.239476"
                    },
                    "execution_count": 7,
                    "metadata": {},
                    "output_type": "execute_result"
                }
            ],
            "source": "coordinates = pd.read_csv('https://cocl.us/Geospatial_data')\ncoordinates.head()"
        },
        {
            "cell_type": "code",
            "execution_count": 8,
            "metadata": {},
            "outputs": [
                {
                    "data": {
                        "text/html": "<div>\n<style scoped>\n    .dataframe tbody tr th:only-of-type {\n        vertical-align: middle;\n    }\n\n    .dataframe tbody tr th {\n        vertical-align: top;\n    }\n\n    .dataframe thead th {\n        text-align: right;\n    }\n</style>\n<table border=\"1\" class=\"dataframe\">\n  <thead>\n    <tr style=\"text-align: right;\">\n      <th></th>\n      <th>Postal Code</th>\n      <th>Borough</th>\n      <th>Neighborhood</th>\n      <th>Latitude</th>\n      <th>Longitude</th>\n    </tr>\n  </thead>\n  <tbody>\n    <tr>\n      <th>0</th>\n      <td>M3A</td>\n      <td>North York</td>\n      <td>Parkwoods</td>\n      <td>43.753259</td>\n      <td>-79.329656</td>\n    </tr>\n    <tr>\n      <th>1</th>\n      <td>M4A</td>\n      <td>North York</td>\n      <td>Victoria Village</td>\n      <td>43.725882</td>\n      <td>-79.315572</td>\n    </tr>\n    <tr>\n      <th>2</th>\n      <td>M5A</td>\n      <td>Downtown Toronto</td>\n      <td>Regent Park, Harbourfront</td>\n      <td>43.654260</td>\n      <td>-79.360636</td>\n    </tr>\n    <tr>\n      <th>3</th>\n      <td>M6A</td>\n      <td>North York</td>\n      <td>Lawrence Manor, Lawrence Heights</td>\n      <td>43.718518</td>\n      <td>-79.464763</td>\n    </tr>\n    <tr>\n      <th>4</th>\n      <td>M7A</td>\n      <td>Downtown Toronto</td>\n      <td>Queen's Park, Ontario Provincial Government</td>\n      <td>43.662301</td>\n      <td>-79.389494</td>\n    </tr>\n    <tr>\n      <th>5</th>\n      <td>M9A</td>\n      <td>Etobicoke</td>\n      <td>Islington Avenue, Humber Valley Village</td>\n      <td>43.667856</td>\n      <td>-79.532242</td>\n    </tr>\n    <tr>\n      <th>6</th>\n      <td>M1B</td>\n      <td>Scarborough</td>\n      <td>Malvern, Rouge</td>\n      <td>43.806686</td>\n      <td>-79.194353</td>\n    </tr>\n    <tr>\n      <th>7</th>\n      <td>M3B</td>\n      <td>North York</td>\n      <td>Don Mills</td>\n      <td>43.745906</td>\n      <td>-79.352188</td>\n    </tr>\n    <tr>\n      <th>8</th>\n      <td>M4B</td>\n      <td>East York</td>\n      <td>Parkview Hill, Woodbine Gardens</td>\n      <td>43.706397</td>\n      <td>-79.309937</td>\n    </tr>\n    <tr>\n      <th>9</th>\n      <td>M5B</td>\n      <td>Downtown Toronto</td>\n      <td>Garden District, Ryerson</td>\n      <td>43.657162</td>\n      <td>-79.378937</td>\n    </tr>\n  </tbody>\n</table>\n</div>",
                        "text/plain": "  Postal Code           Borough                                 Neighborhood  \\\n0         M3A        North York                                    Parkwoods   \n1         M4A        North York                             Victoria Village   \n2         M5A  Downtown Toronto                    Regent Park, Harbourfront   \n3         M6A        North York             Lawrence Manor, Lawrence Heights   \n4         M7A  Downtown Toronto  Queen's Park, Ontario Provincial Government   \n5         M9A         Etobicoke      Islington Avenue, Humber Valley Village   \n6         M1B       Scarborough                               Malvern, Rouge   \n7         M3B        North York                                    Don Mills   \n8         M4B         East York              Parkview Hill, Woodbine Gardens   \n9         M5B  Downtown Toronto                     Garden District, Ryerson   \n\n    Latitude  Longitude  \n0  43.753259 -79.329656  \n1  43.725882 -79.315572  \n2  43.654260 -79.360636  \n3  43.718518 -79.464763  \n4  43.662301 -79.389494  \n5  43.667856 -79.532242  \n6  43.806686 -79.194353  \n7  43.745906 -79.352188  \n8  43.706397 -79.309937  \n9  43.657162 -79.378937  "
                    },
                    "execution_count": 8,
                    "metadata": {},
                    "output_type": "execute_result"
                }
            ],
            "source": "# merging the coordinates with the dataframe with the .merge() function\ndf = df.merge(coordinates, on = 'Postal Code', how = 'left')\ndf.head(10)"
        },
        {
            "cell_type": "markdown",
            "metadata": {},
            "source": "# 3. Clustering the "
        }
    ],
    "metadata": {
        "kernelspec": {
            "display_name": "Python 3.6",
            "language": "python",
            "name": "python3"
        },
        "language_info": {
            "codemirror_mode": {
                "name": "ipython",
                "version": 3
            },
            "file_extension": ".py",
            "mimetype": "text/x-python",
            "name": "python",
            "nbconvert_exporter": "python",
            "pygments_lexer": "ipython3",
            "version": "3.6.9"
        }
    },
    "nbformat": 4,
    "nbformat_minor": 1
}